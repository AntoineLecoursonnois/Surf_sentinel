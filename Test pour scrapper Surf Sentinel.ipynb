{
 "cells": [
  {
   "cell_type": "code",
   "execution_count": 1,
   "id": "78a853e1",
   "metadata": {},
   "outputs": [],
   "source": [
    "import requests\n",
    "from bs4 import BeautifulSoup\n",
    "import re\n",
    "import pandas as pd\n",
    "from geopy.geocoders import Nominatim \n",
    "from geopy import distance\n",
    "import folium"
   ]
  },
  {
   "cell_type": "code",
   "execution_count": 2,
   "id": "a22ad96e",
   "metadata": {},
   "outputs": [],
   "source": [
    "def geocode(adress):\n",
    "    geocoder = Nominatim(user_agent=\"Antoine\")\n",
    "    location = geocoder.geocode(adress)\n",
    "    if location:\n",
    "        coords = [location.latitude, location.longitude]\n",
    "        return coords        \n",
    "    else:\n",
    "        None\n"
   ]
  },
  {
   "cell_type": "code",
   "execution_count": 8,
   "id": "9cd94172",
   "metadata": {},
   "outputs": [
    {
     "name": "stdout",
     "output_type": "stream",
     "text": [
      "Dans quel département souhaites tu surfer ? \n",
      "Morbihan\n"
     ]
    }
   ],
   "source": [
    "# 'cotes-darmor' or 'morbihan' or 'finsitere' or 'ille-et-vilaine'\n",
    "departement = input(\"\"\"Dans quel département souhaites tu surfer ? \\n\"\"\").lower()"
   ]
  },
  {
   "cell_type": "code",
   "execution_count": 18,
   "id": "ecdca39d",
   "metadata": {},
   "outputs": [
    {
     "name": "stdout",
     "output_type": "stream",
     "text": [
      "Quel jour souhaites tu surfer (format aaaa-mm-dd) ?\n",
      "Pour plusieurs journées merci de ne rien indiquer. \n",
      "\n"
     ]
    }
   ],
   "source": [
    "jour_surf = input(\"\"\"Quel jour souhaites tu surfer (format aaaa-mm-dd) ?\\nPour plusieurs journées merci de ne rien indiquer. \\n\"\"\")"
   ]
  },
  {
   "cell_type": "code",
   "execution_count": 22,
   "id": "0c1de7c5",
   "metadata": {},
   "outputs": [
    {
     "name": "stdout",
     "output_type": "stream",
     "text": [
      "A quelle heure souhaites tu surfer (6-9-12-15-18-21) ?\n",
      "Pour plusieurs plages horaires merci de ne rien indiquer. \n",
      "9\n"
     ]
    }
   ],
   "source": [
    "heure_surf = input(\"\"\"A quelle heure souhaites tu surfer (6-9-12-15-18-21) ?\\nPour plusieurs plages horaires merci de ne rien indiquer. \\n\"\"\")"
   ]
  },
  {
   "cell_type": "code",
   "execution_count": 23,
   "id": "1ca31247",
   "metadata": {
    "scrolled": true
   },
   "outputs": [
    {
     "data": {
      "text/html": [
       "<div>\n",
       "<style scoped>\n",
       "    .dataframe tbody tr th:only-of-type {\n",
       "        vertical-align: middle;\n",
       "    }\n",
       "\n",
       "    .dataframe tbody tr th {\n",
       "        vertical-align: top;\n",
       "    }\n",
       "\n",
       "    .dataframe thead th {\n",
       "        text-align: right;\n",
       "    }\n",
       "</style>\n",
       "<table border=\"1\" class=\"dataframe\">\n",
       "  <thead>\n",
       "    <tr style=\"text-align: right;\">\n",
       "      <th></th>\n",
       "      <th>commune</th>\n",
       "      <th>spot</th>\n",
       "      <th>full_name</th>\n",
       "      <th>url</th>\n",
       "      <th>date</th>\n",
       "      <th>hour</th>\n",
       "      <th>water_quality</th>\n",
       "      <th>conditions</th>\n",
       "      <th>level</th>\n",
       "      <th>hauteur</th>\n",
       "      <th>note</th>\n",
       "      <th>long</th>\n",
       "      <th>lat</th>\n",
       "    </tr>\n",
       "  </thead>\n",
       "  <tbody>\n",
       "    <tr>\n",
       "      <th>583</th>\n",
       "      <td>bangor</td>\n",
       "      <td>donnant</td>\n",
       "      <td>bangor donnant</td>\n",
       "      <td>https://www.surf-sentinel.com/surf-report/fran...</td>\n",
       "      <td>2023-08-15</td>\n",
       "      <td>9</td>\n",
       "      <td>A</td>\n",
       "      <td>moyennes</td>\n",
       "      <td>2</td>\n",
       "      <td>0.6</td>\n",
       "      <td>2</td>\n",
       "      <td>47.319644</td>\n",
       "      <td>-3.229840</td>\n",
       "    </tr>\n",
       "    <tr>\n",
       "      <th>145</th>\n",
       "      <td>plouhinec</td>\n",
       "      <td>kervegant</td>\n",
       "      <td>plouhinec kervegant</td>\n",
       "      <td>https://www.surf-sentinel.com/surf-report/fran...</td>\n",
       "      <td>2023-08-12</td>\n",
       "      <td>9</td>\n",
       "      <td>C</td>\n",
       "      <td>moyennes</td>\n",
       "      <td>3</td>\n",
       "      <td>0.6</td>\n",
       "      <td>5</td>\n",
       "      <td>47.664549</td>\n",
       "      <td>-3.225693</td>\n",
       "    </tr>\n",
       "    <tr>\n",
       "      <th>151</th>\n",
       "      <td>plouhinec</td>\n",
       "      <td>kervegant</td>\n",
       "      <td>plouhinec kervegant</td>\n",
       "      <td>https://www.surf-sentinel.com/surf-report/fran...</td>\n",
       "      <td>2023-08-13</td>\n",
       "      <td>9</td>\n",
       "      <td>C</td>\n",
       "      <td>moyennes</td>\n",
       "      <td>3</td>\n",
       "      <td>0.6</td>\n",
       "      <td>5</td>\n",
       "      <td>47.664549</td>\n",
       "      <td>-3.225693</td>\n",
       "    </tr>\n",
       "    <tr>\n",
       "      <th>697</th>\n",
       "      <td>plouharnel</td>\n",
       "      <td>ty-hoche</td>\n",
       "      <td>plouharnel ty-hoche</td>\n",
       "      <td>https://www.surf-sentinel.com/surf-report/fran...</td>\n",
       "      <td>2023-08-13</td>\n",
       "      <td>9</td>\n",
       "      <td>C</td>\n",
       "      <td>moyennes</td>\n",
       "      <td>3</td>\n",
       "      <td>0.6</td>\n",
       "      <td>5</td>\n",
       "      <td>47.596983</td>\n",
       "      <td>-3.146389</td>\n",
       "    </tr>\n",
       "    <tr>\n",
       "      <th>691</th>\n",
       "      <td>plouharnel</td>\n",
       "      <td>ty-hoche</td>\n",
       "      <td>plouharnel ty-hoche</td>\n",
       "      <td>https://www.surf-sentinel.com/surf-report/fran...</td>\n",
       "      <td>2023-08-12</td>\n",
       "      <td>9</td>\n",
       "      <td>C</td>\n",
       "      <td>moyennes</td>\n",
       "      <td>3</td>\n",
       "      <td>0.6</td>\n",
       "      <td>5</td>\n",
       "      <td>47.596983</td>\n",
       "      <td>-3.146389</td>\n",
       "    </tr>\n",
       "    <tr>\n",
       "      <th>649</th>\n",
       "      <td>saint-pierre-quiberon</td>\n",
       "      <td>port-blanc</td>\n",
       "      <td>saint-pierre-quiberon port-blanc</td>\n",
       "      <td>https://www.surf-sentinel.com/surf-report/fran...</td>\n",
       "      <td>2023-08-12</td>\n",
       "      <td>9</td>\n",
       "      <td>C</td>\n",
       "      <td>moyennes</td>\n",
       "      <td>3</td>\n",
       "      <td>0.6</td>\n",
       "      <td>5</td>\n",
       "      <td>47.520556</td>\n",
       "      <td>-3.154272</td>\n",
       "    </tr>\n",
       "    <tr>\n",
       "      <th>193</th>\n",
       "      <td>gavres</td>\n",
       "      <td>gavres</td>\n",
       "      <td>gavres gavres</td>\n",
       "      <td>https://www.surf-sentinel.com/surf-report/fran...</td>\n",
       "      <td>2023-08-13</td>\n",
       "      <td>9</td>\n",
       "      <td>C</td>\n",
       "      <td>moyennes</td>\n",
       "      <td>3</td>\n",
       "      <td>0.6</td>\n",
       "      <td>5</td>\n",
       "      <td>47.696641</td>\n",
       "      <td>-3.352937</td>\n",
       "    </tr>\n",
       "    <tr>\n",
       "      <th>607</th>\n",
       "      <td>saint-pierre-quiberon</td>\n",
       "      <td>port-bara</td>\n",
       "      <td>saint-pierre-quiberon port-bara</td>\n",
       "      <td>https://www.surf-sentinel.com/surf-report/fran...</td>\n",
       "      <td>2023-08-12</td>\n",
       "      <td>9</td>\n",
       "      <td>C</td>\n",
       "      <td>moyennes</td>\n",
       "      <td>3</td>\n",
       "      <td>0.6</td>\n",
       "      <td>5</td>\n",
       "      <td>47.514195</td>\n",
       "      <td>-3.151623</td>\n",
       "    </tr>\n",
       "    <tr>\n",
       "      <th>655</th>\n",
       "      <td>saint-pierre-quiberon</td>\n",
       "      <td>port-blanc</td>\n",
       "      <td>saint-pierre-quiberon port-blanc</td>\n",
       "      <td>https://www.surf-sentinel.com/surf-report/fran...</td>\n",
       "      <td>2023-08-13</td>\n",
       "      <td>9</td>\n",
       "      <td>C</td>\n",
       "      <td>moyennes</td>\n",
       "      <td>3</td>\n",
       "      <td>0.6</td>\n",
       "      <td>5</td>\n",
       "      <td>47.520556</td>\n",
       "      <td>-3.154272</td>\n",
       "    </tr>\n",
       "    <tr>\n",
       "      <th>235</th>\n",
       "      <td>larmor-plage</td>\n",
       "      <td>toulhars</td>\n",
       "      <td>larmor-plage toulhars</td>\n",
       "      <td>https://www.surf-sentinel.com/surf-report/fran...</td>\n",
       "      <td>2023-08-13</td>\n",
       "      <td>9</td>\n",
       "      <td>C</td>\n",
       "      <td>moyennes</td>\n",
       "      <td>3</td>\n",
       "      <td>0.6</td>\n",
       "      <td>5</td>\n",
       "      <td>47.705856</td>\n",
       "      <td>-3.385563</td>\n",
       "    </tr>\n",
       "  </tbody>\n",
       "</table>\n",
       "</div>"
      ],
      "text/plain": [
       "                   commune        spot                         full_name  \\\n",
       "583                 bangor     donnant                    bangor donnant   \n",
       "145              plouhinec   kervegant               plouhinec kervegant   \n",
       "151              plouhinec   kervegant               plouhinec kervegant   \n",
       "697             plouharnel    ty-hoche               plouharnel ty-hoche   \n",
       "691             plouharnel    ty-hoche               plouharnel ty-hoche   \n",
       "649  saint-pierre-quiberon  port-blanc  saint-pierre-quiberon port-blanc   \n",
       "193                 gavres      gavres                     gavres gavres   \n",
       "607  saint-pierre-quiberon   port-bara   saint-pierre-quiberon port-bara   \n",
       "655  saint-pierre-quiberon  port-blanc  saint-pierre-quiberon port-blanc   \n",
       "235           larmor-plage    toulhars             larmor-plage toulhars   \n",
       "\n",
       "                                                   url        date hour  \\\n",
       "583  https://www.surf-sentinel.com/surf-report/fran...  2023-08-15    9   \n",
       "145  https://www.surf-sentinel.com/surf-report/fran...  2023-08-12    9   \n",
       "151  https://www.surf-sentinel.com/surf-report/fran...  2023-08-13    9   \n",
       "697  https://www.surf-sentinel.com/surf-report/fran...  2023-08-13    9   \n",
       "691  https://www.surf-sentinel.com/surf-report/fran...  2023-08-12    9   \n",
       "649  https://www.surf-sentinel.com/surf-report/fran...  2023-08-12    9   \n",
       "193  https://www.surf-sentinel.com/surf-report/fran...  2023-08-13    9   \n",
       "607  https://www.surf-sentinel.com/surf-report/fran...  2023-08-12    9   \n",
       "655  https://www.surf-sentinel.com/surf-report/fran...  2023-08-13    9   \n",
       "235  https://www.surf-sentinel.com/surf-report/fran...  2023-08-13    9   \n",
       "\n",
       "    water_quality conditions level hauteur  note       long       lat  \n",
       "583             A   moyennes     2     0.6     2  47.319644 -3.229840  \n",
       "145             C   moyennes     3     0.6     5  47.664549 -3.225693  \n",
       "151             C   moyennes     3     0.6     5  47.664549 -3.225693  \n",
       "697             C   moyennes     3     0.6     5  47.596983 -3.146389  \n",
       "691             C   moyennes     3     0.6     5  47.596983 -3.146389  \n",
       "649             C   moyennes     3     0.6     5  47.520556 -3.154272  \n",
       "193             C   moyennes     3     0.6     5  47.696641 -3.352937  \n",
       "607             C   moyennes     3     0.6     5  47.514195 -3.151623  \n",
       "655             C   moyennes     3     0.6     5  47.520556 -3.154272  \n",
       "235             C   moyennes     3     0.6     5  47.705856 -3.385563  "
      ]
     },
     "metadata": {},
     "output_type": "display_data"
    }
   ],
   "source": [
    "fichier_lat_long_par_spot = pd.read_csv('lat_long_spots.csv', index_col=False)\n",
    "\n",
    "response = requests.get(\"https://www.surf-sentinel.com/spots-de-surf/france/liste-spots-de-surf-\" + departement)\n",
    "soup = BeautifulSoup(response.content, \"html.parser\")\n",
    "\n",
    "communes = []\n",
    "spots = []\n",
    "\n",
    "for i in soup.find_all(\"div\", class_=\"location-content\") : \n",
    "    url = str(i.find(\"div\").find(\"a\"))\n",
    "    commune_avec_slash = str(re.search(departement + \"/[\\w-]+\", url).group(0)).replace(departement,'')\n",
    "    spot_url = str(re.search(departement + \"/[\\w-]+/[\\w-]+\", url).group(0)).replace(commune_avec_slash,'').replace(departement,'').replace(\"/\",\"\")\n",
    "    commune_url = commune_avec_slash.replace('/','')\n",
    "    \n",
    "    communes.append(commune_url)\n",
    "    \n",
    "    if spot_url == '' :\n",
    "        spots.append(commune_url)\n",
    "    else :\n",
    "        spots.append(spot_url)\n",
    "\n",
    "spots_main_data = pd.DataFrame()\n",
    "spots_main_data['commune'] = communes\n",
    "spots_main_data['spot'] = spots\n",
    "spots_main_data['full_name'] = spots_main_data['commune'] + ' ' + spots_main_data['spot']\n",
    "spots_main_data['url'] = 'https://www.surf-sentinel.com/surf-report/france/' + departement + '/' + spots_main_data['commune'] + '/' + spots_main_data['spot']\n",
    "\n",
    "\n",
    "url = []\n",
    "date = []\n",
    "hour = []\n",
    "water_quality = []\n",
    "conditions = []\n",
    "level = []\n",
    "hauteur = []\n",
    "note = []\n",
    "\n",
    "for spot_url in spots_main_data['url'] : \n",
    "    meteo_spot_web_page = requests.get(spot_url)\n",
    "    soup_url = BeautifulSoup(meteo_spot_web_page.content, \"html.parser\")\n",
    "    \n",
    "    for i in soup_url.find_all(\"div\", class_=\"detailed-report-box hidden gocenter\") :\n",
    "        datetime = str(re.search(\"box-\\d+-\\d+-\\d+-\\d+\", str(i)).group(0)).replace('box-','')\n",
    "        url.append(spot_url)\n",
    "        date.append(datetime[0:10])\n",
    "        hour.append(datetime[11:].replace('0',''))\n",
    "        \n",
    "        water_quality_desc = str(re.search(\"strong>\\w<span\", str(i)).group(0)).replace('strong>','').replace('<span','')\n",
    "        water_quality.append(water_quality_desc)\n",
    "        level_desc = str(re.search(\"\"\"metric\">\\d</span\"\"\", str(i)).group(0)).replace('metric\">','').replace('</span','')  \n",
    "        level.append(level_desc)\n",
    "        \n",
    "        if water_quality_desc == 'A' and level_desc == '3' :\n",
    "             note.append(1)\n",
    "        elif water_quality_desc == 'A' and level_desc == '2' :\n",
    "             note.append(2)\n",
    "        elif water_quality_desc == 'B' and level_desc == '3' :\n",
    "             note.append(3)\n",
    "        elif water_quality_desc == 'B' and level_desc == '2' :\n",
    "             note.append(4)\n",
    "        elif water_quality_desc == 'C' and level_desc == '3' :\n",
    "             note.append(5)\n",
    "        elif water_quality_desc == 'C' and level_desc == '2' :\n",
    "             note.append(6)\n",
    "        elif water_quality_desc == 'A' and level_desc == '1' :\n",
    "             note.append(7)\n",
    "        elif water_quality_desc == 'B' and level_desc == '1' :\n",
    "             note.append(8)\n",
    "        elif water_quality_desc == 'C' and level_desc == '1' :\n",
    "             note.append(9)\n",
    "        else :\n",
    "             note.append(10)   \n",
    "    \n",
    "    for i in soup_url.find_all(\"p\", class_=\"fl-caps previ-desc\") :\n",
    "        try :\n",
    "            conditions = str(re.search(\"conditions [a-z]+\", str(i)).group(0)).replace('conditions ','')\n",
    "        except : \n",
    "            hauteur = str(re.search(\"\\d.\\d m en\", str(i)).group(0)).replace(' m en','')     \n",
    "\n",
    "spot_attributes = pd.DataFrame()\n",
    "spot_attributes['url'] = url\n",
    "spot_attributes['date'] = date\n",
    "spot_attributes['hour'] = hour\n",
    "spot_attributes['water_quality'] = water_quality\n",
    "spot_attributes['conditions'] = conditions\n",
    "spot_attributes['level'] = level\n",
    "spot_attributes['hauteur'] = hauteur\n",
    "spot_attributes['note'] = note\n",
    "\n",
    "spots_previsions = pd.merge(left=spots_main_data, right=spot_attributes, on = 'url', how='left')\n",
    "spots_previsions = pd.merge(left=spots_previsions, right=fichier_lat_long_par_spot, on = 'full_name', how='left')\n",
    "\n",
    "if jour_surf :\n",
    "    if heure_surf :\n",
    "        display(spots_previsions[(spots_previsions.date == jour_surf)][(spots_previsions.hour == heure_surf)].sort_values(by=['note']).head(10))\n",
    "    else : \n",
    "        display(spots_previsions[(spots_previsions.date == jour_surf)].sort_values(by=['note']).head(10))\n",
    "else : \n",
    "    if heure_surf :\n",
    "        display(spots_previsions[(spots_previsions.hour == heure_surf)].sort_values(by=['note']).head(10))\n",
    "    else : \n",
    "        display(spots_previsions.sort_values(by=['note']).head(10))\n",
    "    "
   ]
  },
  {
   "cell_type": "code",
   "execution_count": null,
   "id": "991031f1",
   "metadata": {},
   "outputs": [],
   "source": [
    "dd"
   ]
  },
  {
   "cell_type": "code",
   "execution_count": null,
   "id": "bb605405",
   "metadata": {},
   "outputs": [],
   "source": [
    "geocode('guidel la-falaise')"
   ]
  },
  {
   "cell_type": "code",
   "execution_count": null,
   "id": "576c6dd8",
   "metadata": {},
   "outputs": [],
   "source": [
    "start_address = input('Where we start ? \\n')"
   ]
  },
  {
   "cell_type": "code",
   "execution_count": null,
   "id": "aeed8e1d",
   "metadata": {},
   "outputs": [],
   "source": [
    "spots_previsions['distance'] = round(distance.distance(geocode(start_address), geocode(spots_previsions['commune'] + ' ' + spots_previsions['spot'])).km,2)"
   ]
  },
  {
   "cell_type": "code",
   "execution_count": null,
   "id": "4a9c3fc9",
   "metadata": {},
   "outputs": [],
   "source": [
    "dd"
   ]
  },
  {
   "cell_type": "code",
   "execution_count": null,
   "id": "492377cb",
   "metadata": {},
   "outputs": [],
   "source": []
  },
  {
   "cell_type": "code",
   "execution_count": null,
   "id": "9e7eb102",
   "metadata": {},
   "outputs": [],
   "source": []
  },
  {
   "cell_type": "code",
   "execution_count": null,
   "id": "2488e811",
   "metadata": {},
   "outputs": [],
   "source": [
    "start_address = input('Where we start ? \\n')\n",
    "end_address = geocode('bangor donnant')\n",
    "distance_two_points = round(distance.distance(geocode(start_address), end_address).km,2)\n",
    "distance_two_points"
   ]
  },
  {
   "cell_type": "code",
   "execution_count": null,
   "id": "52702efe",
   "metadata": {},
   "outputs": [],
   "source": []
  },
  {
   "cell_type": "code",
   "execution_count": null,
   "id": "6c9778f8",
   "metadata": {},
   "outputs": [],
   "source": []
  },
  {
   "cell_type": "code",
   "execution_count": null,
   "id": "7e9ef471",
   "metadata": {},
   "outputs": [],
   "source": []
  },
  {
   "cell_type": "code",
   "execution_count": null,
   "id": "9651b248",
   "metadata": {},
   "outputs": [],
   "source": [
    "def geocode(adress):\n",
    "    geocoder = Nominatim(user_agent=\"Antoine\")\n",
    "    location = geocoder.geocode(adress)\n",
    "    if location:\n",
    "        coords = [location.latitude, location.longitude]\n",
    "        return coords\n",
    "#         print(f'Result found for {adress}')\n",
    "#         print(coords)\n",
    "        \n",
    "    else:\n",
    "        None\n",
    "\n",
    "def draw_100km_map(adress):\n",
    "    coords = geocode(adress)\n",
    "    if coords:\n",
    "        map_ = folium.Map(location = coords, zoom_start = 10)\n",
    "        folium.Marker(location = coords, tooltip = \"Visit the spot\", popup = \"L'eau est bonne\").add_to(map_)\n",
    "        folium.Circle(location = coords, radius = 100 * 1000, fill=True).add_to(map_)\n",
    "        return map_\n",
    "    else:\n",
    "        print(f\"location not found for {adress}\")\n",
    "        return None\n",
    "\n",
    "user_adress = input(\"Enter an adress: \")\n",
    "map_ = draw_100km_map(adress = user_adress)\n",
    "map_\n"
   ]
  },
  {
   "cell_type": "code",
   "execution_count": null,
   "id": "f488c0ea",
   "metadata": {},
   "outputs": [],
   "source": [
    "distance(coords_start, coords_end)"
   ]
  },
  {
   "cell_type": "code",
   "execution_count": null,
   "id": "f15ce8f7",
   "metadata": {},
   "outputs": [],
   "source": []
  },
  {
   "cell_type": "code",
   "execution_count": null,
   "id": "ced9c478",
   "metadata": {},
   "outputs": [],
   "source": [
    "def geocode(adress):\n",
    "    geocoder = Nominatim(user_agent=\"Antoine\")\n",
    "    location = geocoder.geocode(adress)\n",
    "    if location:\n",
    "        coords = [location.latitude, location.longitude]\n",
    "        return coords        \n",
    "    else:\n",
    "        None\n"
   ]
  },
  {
   "cell_type": "code",
   "execution_count": null,
   "id": "0f51ddfd",
   "metadata": {},
   "outputs": [],
   "source": [
    "start_address = input('Where we start ? \\n')\n",
    "end_address = geocode('bangor donnant')\n",
    "distance_two_points = round(distance.distance(geocode(start_address), end_address).km,2)\n",
    "distance_two_points\n"
   ]
  },
  {
   "cell_type": "code",
   "execution_count": null,
   "id": "31a337b9",
   "metadata": {},
   "outputs": [],
   "source": []
  },
  {
   "cell_type": "code",
   "execution_count": null,
   "id": "3eb46e14",
   "metadata": {},
   "outputs": [],
   "source": []
  },
  {
   "cell_type": "code",
   "execution_count": null,
   "id": "995da588",
   "metadata": {},
   "outputs": [],
   "source": [
    "dd"
   ]
  },
  {
   "cell_type": "code",
   "execution_count": null,
   "id": "40bb5129",
   "metadata": {},
   "outputs": [],
   "source": [
    "date"
   ]
  },
  {
   "cell_type": "code",
   "execution_count": null,
   "id": "ad0d5b34",
   "metadata": {},
   "outputs": [],
   "source": [
    "hour"
   ]
  },
  {
   "cell_type": "code",
   "execution_count": null,
   "id": "690a1cf5",
   "metadata": {},
   "outputs": [],
   "source": []
  },
  {
   "cell_type": "code",
   "execution_count": null,
   "id": "f12ce449",
   "metadata": {},
   "outputs": [],
   "source": [
    "meteo_spot_web_page = requests.get(spots_main_data['url'][0])\n",
    "soup_url = BeautifulSoup(meteo_spot_web_page.content, \"html.parser\")"
   ]
  },
  {
   "cell_type": "code",
   "execution_count": null,
   "id": "e56431e0",
   "metadata": {},
   "outputs": [],
   "source": [
    "n = 0\n",
    "for i in soup_url.find_all(\"div\", class_=\"detailed-report-box hidden gocenter\") :\n",
    "    datetime = str(re.search(\"box-\\d+-\\d+-\\d+-\\d+\", str(i)).group(0)).replace('box-','')\n",
    "    date = datetime[0:10]\n",
    "    hour = datetime[11:].replace('0','')\n",
    "    n += 1\n",
    "    print('date : ', date, 'hour : ', hour, 'n', n)\n",
    "    "
   ]
  },
  {
   "cell_type": "code",
   "execution_count": null,
   "id": "ec277006",
   "metadata": {},
   "outputs": [],
   "source": []
  },
  {
   "cell_type": "code",
   "execution_count": null,
   "id": "41503468",
   "metadata": {},
   "outputs": [],
   "source": [
    "for i in soup_url.find_all(\"span\", class_=\"note\") :\n",
    "    water_quality = str(re.search(\"strong>\\w<span\", str(i)).group(0)).replace('strong>','').replace('<span','')\n",
    "    level = str(re.search(\"\"\"metric\">\\d</span\"\"\", str(i)).group(0)).replace('metric\">','').replace('</span','')  \n",
    "    print(level)\n",
    "    "
   ]
  },
  {
   "cell_type": "code",
   "execution_count": null,
   "id": "3c7f2396",
   "metadata": {},
   "outputs": [],
   "source": []
  },
  {
   "cell_type": "code",
   "execution_count": null,
   "id": "8081eaff",
   "metadata": {},
   "outputs": [],
   "source": [
    "for i in soup_url.find_all(\"p\", class_=\"fl-caps previ-desc\") :\n",
    "    try :\n",
    "        conditions = str(re.search(\"conditions [a-z]+\", str(i)).group(0)).replace('conditions ','')\n",
    "        print(conditions)\n",
    "    except : \n",
    "        hauteur = str(re.search(\"\\d.\\d m en\", str(i)).group(0)).replace(' m en','')\n",
    "#     print(conditions)\n",
    "#     print(conditions)\n",
    "        print(hauteur)"
   ]
  },
  {
   "cell_type": "code",
   "execution_count": null,
   "id": "dcc4c948",
   "metadata": {},
   "outputs": [],
   "source": []
  },
  {
   "cell_type": "code",
   "execution_count": null,
   "id": "9cc06fbf",
   "metadata": {},
   "outputs": [],
   "source": []
  },
  {
   "cell_type": "code",
   "execution_count": null,
   "id": "dd2ac66c",
   "metadata": {},
   "outputs": [],
   "source": []
  },
  {
   "cell_type": "code",
   "execution_count": null,
   "id": "9eced758",
   "metadata": {},
   "outputs": [],
   "source": []
  },
  {
   "cell_type": "code",
   "execution_count": null,
   "id": "e456c1b8",
   "metadata": {},
   "outputs": [],
   "source": []
  },
  {
   "cell_type": "code",
   "execution_count": null,
   "id": "9ebdd9ee",
   "metadata": {},
   "outputs": [],
   "source": []
  },
  {
   "cell_type": "code",
   "execution_count": null,
   "id": "5d8c0797",
   "metadata": {},
   "outputs": [],
   "source": []
  },
  {
   "cell_type": "code",
   "execution_count": null,
   "id": "96848ecc",
   "metadata": {},
   "outputs": [],
   "source": []
  },
  {
   "cell_type": "code",
   "execution_count": null,
   "id": "55958b3d",
   "metadata": {},
   "outputs": [],
   "source": []
  }
 ],
 "metadata": {
  "kernelspec": {
   "display_name": "Python 3 (ipykernel)",
   "language": "python",
   "name": "python3"
  },
  "language_info": {
   "codemirror_mode": {
    "name": "ipython",
    "version": 3
   },
   "file_extension": ".py",
   "mimetype": "text/x-python",
   "name": "python",
   "nbconvert_exporter": "python",
   "pygments_lexer": "ipython3",
   "version": "3.8.12"
  },
  "toc": {
   "base_numbering": 1,
   "nav_menu": {},
   "number_sections": true,
   "sideBar": true,
   "skip_h1_title": false,
   "title_cell": "Table of Contents",
   "title_sidebar": "Contents",
   "toc_cell": false,
   "toc_position": {},
   "toc_section_display": true,
   "toc_window_display": false
  },
  "varInspector": {
   "cols": {
    "lenName": 16,
    "lenType": 16,
    "lenVar": 40
   },
   "kernels_config": {
    "python": {
     "delete_cmd_postfix": "",
     "delete_cmd_prefix": "del ",
     "library": "var_list.py",
     "varRefreshCmd": "print(var_dic_list())"
    },
    "r": {
     "delete_cmd_postfix": ") ",
     "delete_cmd_prefix": "rm(",
     "library": "var_list.r",
     "varRefreshCmd": "cat(var_dic_list()) "
    }
   },
   "types_to_exclude": [
    "module",
    "function",
    "builtin_function_or_method",
    "instance",
    "_Feature"
   ],
   "window_display": false
  }
 },
 "nbformat": 4,
 "nbformat_minor": 5
}
