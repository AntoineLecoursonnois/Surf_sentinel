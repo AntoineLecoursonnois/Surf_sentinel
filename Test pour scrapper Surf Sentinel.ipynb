{
 "cells": [
  {
   "cell_type": "code",
   "execution_count": 1,
   "id": "78a853e1",
   "metadata": {},
   "outputs": [],
   "source": [
    "import requests\n",
    "from bs4 import BeautifulSoup\n",
    "import re\n",
    "import pandas as pd\n",
    "from geopy.geocoders import Nominatim \n",
    "from geopy import distance\n",
    "import folium"
   ]
  },
  {
   "cell_type": "code",
   "execution_count": 2,
   "id": "69adf710",
   "metadata": {},
   "outputs": [],
   "source": [
    "def geocode(adress):\n",
    "    geocoder = Nominatim(user_agent=\"Antoine\")\n",
    "    location = geocoder.geocode(adress)\n",
    "    if location:\n",
    "        coords = [location.latitude, location.longitude]\n",
    "        return coords        \n",
    "    else:\n",
    "        None\n"
   ]
  },
  {
   "cell_type": "code",
   "execution_count": 3,
   "id": "da539c30",
   "metadata": {},
   "outputs": [
    {
     "name": "stdout",
     "output_type": "stream",
     "text": [
      "Dans quel département souhaites tu surfer ? \n",
      "morbihan\n"
     ]
    }
   ],
   "source": [
    "# 'cotes-darmor' or 'morbihan' or 'finsitere' or 'ille-et-vilaine'\n",
    "departement = input(\"\"\"Dans quel département souhaites tu surfer ? \\n\"\"\").lower()"
   ]
  },
  {
   "cell_type": "code",
   "execution_count": 4,
   "id": "47fd218e",
   "metadata": {},
   "outputs": [
    {
     "name": "stdout",
     "output_type": "stream",
     "text": [
      "Quel jour souhaites tu surfer (format aaaa-mm-dd) ?\n",
      "Pour plusieurs journées merci de ne rien indiquer. \n",
      "\n"
     ]
    }
   ],
   "source": [
    "jour_surf = input(\"\"\"Quel jour souhaites tu surfer (format aaaa-mm-dd) ?\\nPour plusieurs journées merci de ne rien indiquer. \\n\"\"\")"
   ]
  },
  {
   "cell_type": "code",
   "execution_count": 5,
   "id": "81570f1e",
   "metadata": {},
   "outputs": [
    {
     "name": "stdout",
     "output_type": "stream",
     "text": [
      "A quelle heure souhaites tu surfer (6-9-12-15-18-21) ?\n",
      "Pour plusieurs plages horaires merci de ne rien indiquer. \n",
      "\n"
     ]
    }
   ],
   "source": [
    "heure_surf = input(\"\"\"A quelle heure souhaites tu surfer (6-9-12-15-18-21) ?\\nPour plusieurs plages horaires merci de ne rien indiquer. \\n\"\"\")"
   ]
  },
  {
   "cell_type": "code",
   "execution_count": 16,
   "id": "1ca31247",
   "metadata": {
    "scrolled": true
   },
   "outputs": [],
   "source": [
    "fichier_lat_long_par_spot = pd.read_csv('lat_long_spots.csv', index_col=False)\n",
    "\n",
    "response = requests.get(\"https://www.surf-sentinel.com/spots-de-surf/france/liste-spots-de-surf-\" + departement)\n",
    "soup = BeautifulSoup(response.content, \"html.parser\")\n",
    "\n",
    "communes = []\n",
    "spots = []\n",
    "\n",
    "for i in soup.find_all(\"div\", class_=\"location-content\") : \n",
    "    url = str(i.find(\"div\").find(\"a\"))\n",
    "    commune_avec_slash = str(re.search(departement + \"/[\\w-]+\", url).group(0)).replace(departement,'')\n",
    "    spot_url = str(re.search(departement + \"/[\\w-]+/[\\w-]+\", url).group(0)).replace(commune_avec_slash,'').replace(departement,'').replace(\"/\",\"\")\n",
    "    commune_url = commune_avec_slash.replace('/','')\n",
    "    \n",
    "    communes.append(commune_url)\n",
    "    \n",
    "    if spot_url == '' :\n",
    "        spots.append(commune_url)\n",
    "    else :\n",
    "        spots.append(spot_url)\n",
    "\n",
    "spots_main_data = pd.DataFrame()\n",
    "spots_main_data['commune'] = communes\n",
    "spots_main_data['spot'] = spots\n",
    "spots_main_data['full_name'] = spots_main_data['commune'] + ' ' + spots_main_data['spot']\n",
    "spots_main_data['url'] = 'https://www.surf-sentinel.com/surf-report/france/' + departement + '/' + spots_main_data['commune'] + '/' + spots_main_data['spot']\n",
    "\n",
    "\n",
    "url = []\n",
    "date = []\n",
    "hour = []\n",
    "water_quality = []\n",
    "conditions = []\n",
    "level = []\n",
    "hauteur = []\n",
    "note = []\n",
    "\n",
    "for spot_url in spots_main_data['url'] : \n",
    "    meteo_spot_web_page = requests.get(spot_url)\n",
    "    soup_url = BeautifulSoup(meteo_spot_web_page.content, \"html.parser\")\n",
    "    \n",
    "    for i in soup_url.find_all(\"div\", class_=\"detailed-report-box hidden gocenter\") :\n",
    "        datetime = str(re.search(\"box-\\d+-\\d+-\\d+-\\d+\", str(i)).group(0)).replace('box-','')\n",
    "        url.append(spot_url)\n",
    "        date.append(datetime[0:10])\n",
    "        hour.append(datetime[11:].replace('0',''))\n",
    "        \n",
    "        water_quality_desc = str(re.search(\"strong>\\w<span\", str(i)).group(0)).replace('strong>','').replace('<span','')\n",
    "        water_quality.append(water_quality_desc)\n",
    "        level_desc = str(re.search(\"\"\"metric\">\\d</span\"\"\", str(i)).group(0)).replace('metric\">','').replace('</span','')  \n",
    "        level.append(level_desc)\n",
    "        \n",
    "        if water_quality_desc == 'A' and level_desc == '3' :\n",
    "             note.append(1)\n",
    "        elif water_quality_desc == 'A' and level_desc == '2' :\n",
    "             note.append(2)\n",
    "        elif water_quality_desc == 'B' and level_desc == '3' :\n",
    "             note.append(3)\n",
    "        elif water_quality_desc == 'B' and level_desc == '2' :\n",
    "             note.append(4)\n",
    "        elif water_quality_desc == 'C' and level_desc == '3' :\n",
    "             note.append(5)\n",
    "        elif water_quality_desc == 'C' and level_desc == '2' :\n",
    "             note.append(6)\n",
    "        elif water_quality_desc == 'A' and level_desc == '1' :\n",
    "             note.append(7)\n",
    "        elif water_quality_desc == 'B' and level_desc == '1' :\n",
    "             note.append(8)\n",
    "        elif water_quality_desc == 'C' and level_desc == '1' :\n",
    "             note.append(9)\n",
    "        else :\n",
    "             note.append(10)   \n",
    "    \n",
    "#     for i in soup_url.find_all(\"p\", class_=\"fl-caps previ-desc\") :\n",
    "#         try :\n",
    "        conditions_desc = str(re.search(\"conditions [a-z]+\", str(i)).group(0)).replace('conditions ','')\n",
    "        conditions.append(conditions_desc)\n",
    "#         except : \n",
    "        hauteur_desc = str(re.search(\"\\d.\\d m en\", str(i)).group(0)).replace(' m en','')    \n",
    "        hauteur.append(hauteur_desc)\n",
    "\n",
    "spot_attributes = pd.DataFrame()\n",
    "spot_attributes['url'] = url\n",
    "spot_attributes['date'] = date\n",
    "spot_attributes['hour'] = hour\n",
    "spot_attributes['water_quality'] = water_quality\n",
    "spot_attributes['conditions'] = conditions\n",
    "spot_attributes['level'] = level\n",
    "spot_attributes['hauteur'] = hauteur\n",
    "spot_attributes['note'] = note\n",
    "\n",
    "spots_previsions = pd.merge(left=spots_main_data, right=spot_attributes, on = 'url', how='left')\n",
    "spots_previsions = pd.merge(left=spots_previsions, right=fichier_lat_long_par_spot, on = 'full_name', how='left')\n",
    "\n",
    "if jour_surf :\n",
    "    if heure_surf :\n",
    "        top_spots = spots_previsions[(spots_previsions.date == jour_surf)][(spots_previsions.hour == heure_surf)].sort_values(by=['note'])\n",
    "    else : \n",
    "        top_spots = spots_previsions[(spots_previsions.date == jour_surf)].sort_values(by=['note'])\n",
    "else : \n",
    "    if heure_surf :\n",
    "        top_spots = spots_previsions[(spots_previsions.hour == heure_surf)].sort_values(by=['note'])\n",
    "    else : \n",
    "        top_spots = spots_previsions.sort_values(by=['note'])\n",
    "        \n",
    "top_spots.to_csv(\"top_spots.txt\")"
   ]
  },
  {
   "cell_type": "code",
   "execution_count": 17,
   "id": "a2f56dae",
   "metadata": {},
   "outputs": [
    {
     "data": {
      "text/html": [
       "<div>\n",
       "<style scoped>\n",
       "    .dataframe tbody tr th:only-of-type {\n",
       "        vertical-align: middle;\n",
       "    }\n",
       "\n",
       "    .dataframe tbody tr th {\n",
       "        vertical-align: top;\n",
       "    }\n",
       "\n",
       "    .dataframe thead th {\n",
       "        text-align: right;\n",
       "    }\n",
       "</style>\n",
       "<table border=\"1\" class=\"dataframe\">\n",
       "  <thead>\n",
       "    <tr style=\"text-align: right;\">\n",
       "      <th></th>\n",
       "      <th>commune</th>\n",
       "      <th>spot</th>\n",
       "      <th>full_name</th>\n",
       "      <th>url</th>\n",
       "      <th>date</th>\n",
       "      <th>hour</th>\n",
       "      <th>water_quality</th>\n",
       "      <th>conditions</th>\n",
       "      <th>level</th>\n",
       "      <th>hauteur</th>\n",
       "      <th>note</th>\n",
       "      <th>long</th>\n",
       "      <th>lat</th>\n",
       "    </tr>\n",
       "  </thead>\n",
       "  <tbody>\n",
       "    <tr>\n",
       "      <th>414</th>\n",
       "      <td>guidel</td>\n",
       "      <td>pen-er-malo-fort-bloque</td>\n",
       "      <td>guidel pen-er-malo-fort-bloque</td>\n",
       "      <td>https://www.surf-sentinel.com/surf-report/fran...</td>\n",
       "      <td>2023-08-15</td>\n",
       "      <td>6</td>\n",
       "      <td>A</td>\n",
       "      <td>excellentes</td>\n",
       "      <td>2</td>\n",
       "      <td>0.9</td>\n",
       "      <td>2</td>\n",
       "      <td>47.753190</td>\n",
       "      <td>-3.498490</td>\n",
       "    </tr>\n",
       "    <tr>\n",
       "      <th>330</th>\n",
       "      <td>guidel</td>\n",
       "      <td>plage-du-loch</td>\n",
       "      <td>guidel plage-du-loch</td>\n",
       "      <td>https://www.surf-sentinel.com/surf-report/fran...</td>\n",
       "      <td>2023-08-15</td>\n",
       "      <td>6</td>\n",
       "      <td>A</td>\n",
       "      <td>excellentes</td>\n",
       "      <td>2</td>\n",
       "      <td>0.9</td>\n",
       "      <td>2</td>\n",
       "      <td>48.029500</td>\n",
       "      <td>-4.637220</td>\n",
       "    </tr>\n",
       "    <tr>\n",
       "      <th>456</th>\n",
       "      <td>ploemeur</td>\n",
       "      <td>les-kaolins</td>\n",
       "      <td>ploemeur les-kaolins</td>\n",
       "      <td>https://www.surf-sentinel.com/surf-report/fran...</td>\n",
       "      <td>2023-08-15</td>\n",
       "      <td>6</td>\n",
       "      <td>A</td>\n",
       "      <td>excellentes</td>\n",
       "      <td>2</td>\n",
       "      <td>0.9</td>\n",
       "      <td>2</td>\n",
       "      <td>47.722829</td>\n",
       "      <td>-3.487346</td>\n",
       "    </tr>\n",
       "    <tr>\n",
       "      <th>498</th>\n",
       "      <td>plouhinec</td>\n",
       "      <td>lines</td>\n",
       "      <td>plouhinec lines</td>\n",
       "      <td>https://www.surf-sentinel.com/surf-report/fran...</td>\n",
       "      <td>2023-08-15</td>\n",
       "      <td>6</td>\n",
       "      <td>A</td>\n",
       "      <td>excellentes</td>\n",
       "      <td>2</td>\n",
       "      <td>0.9</td>\n",
       "      <td>2</td>\n",
       "      <td>47.684641</td>\n",
       "      <td>-3.283086</td>\n",
       "    </tr>\n",
       "    <tr>\n",
       "      <th>158</th>\n",
       "      <td>plouhinec</td>\n",
       "      <td>kervegant</td>\n",
       "      <td>plouhinec kervegant</td>\n",
       "      <td>https://www.surf-sentinel.com/surf-report/fran...</td>\n",
       "      <td>2023-08-14</td>\n",
       "      <td>12</td>\n",
       "      <td>B</td>\n",
       "      <td>bonnes</td>\n",
       "      <td>2</td>\n",
       "      <td>1.0</td>\n",
       "      <td>4</td>\n",
       "      <td>47.664549</td>\n",
       "      <td>-3.225693</td>\n",
       "    </tr>\n",
       "  </tbody>\n",
       "</table>\n",
       "</div>"
      ],
      "text/plain": [
       "       commune                     spot                       full_name  \\\n",
       "414     guidel  pen-er-malo-fort-bloque  guidel pen-er-malo-fort-bloque   \n",
       "330     guidel            plage-du-loch            guidel plage-du-loch   \n",
       "456   ploemeur              les-kaolins            ploemeur les-kaolins   \n",
       "498  plouhinec                    lines                 plouhinec lines   \n",
       "158  plouhinec                kervegant             plouhinec kervegant   \n",
       "\n",
       "                                                   url        date hour  \\\n",
       "414  https://www.surf-sentinel.com/surf-report/fran...  2023-08-15    6   \n",
       "330  https://www.surf-sentinel.com/surf-report/fran...  2023-08-15    6   \n",
       "456  https://www.surf-sentinel.com/surf-report/fran...  2023-08-15    6   \n",
       "498  https://www.surf-sentinel.com/surf-report/fran...  2023-08-15    6   \n",
       "158  https://www.surf-sentinel.com/surf-report/fran...  2023-08-14   12   \n",
       "\n",
       "    water_quality   conditions level hauteur  note       long       lat  \n",
       "414             A  excellentes     2     0.9     2  47.753190 -3.498490  \n",
       "330             A  excellentes     2     0.9     2  48.029500 -4.637220  \n",
       "456             A  excellentes     2     0.9     2  47.722829 -3.487346  \n",
       "498             A  excellentes     2     0.9     2  47.684641 -3.283086  \n",
       "158             B       bonnes     2     1.0     4  47.664549 -3.225693  "
      ]
     },
     "execution_count": 17,
     "metadata": {},
     "output_type": "execute_result"
    }
   ],
   "source": [
    "top_spots.head()"
   ]
  },
  {
   "cell_type": "code",
   "execution_count": 18,
   "id": "1ece496e",
   "metadata": {},
   "outputs": [
    {
     "data": {
      "text/plain": [
       "['mauvaises', 'bonnes', 'excellentes', 'moyennes']"
      ]
     },
     "execution_count": 18,
     "metadata": {},
     "output_type": "execute_result"
    }
   ],
   "source": [
    "list(set(top_spots['conditions']))"
   ]
  },
  {
   "cell_type": "code",
   "execution_count": 19,
   "id": "f6692749",
   "metadata": {},
   "outputs": [
    {
     "data": {
      "text/plain": [
       "['1.1',\n",
       " '1.2',\n",
       " '1.3',\n",
       " '0.7',\n",
       " '2.1',\n",
       " '1.8',\n",
       " '0.4',\n",
       " '1.6',\n",
       " '1.7',\n",
       " '0.5',\n",
       " '1.4',\n",
       " '1.5',\n",
       " '2.0',\n",
       " '1.9',\n",
       " '0.8',\n",
       " '0.9',\n",
       " '1.0',\n",
       " '0.6',\n",
       " '2.2']"
      ]
     },
     "execution_count": 19,
     "metadata": {},
     "output_type": "execute_result"
    }
   ],
   "source": [
    "list(set(top_spots['hauteur']))"
   ]
  },
  {
   "cell_type": "code",
   "execution_count": null,
   "id": "b281b10e",
   "metadata": {},
   "outputs": [],
   "source": []
  },
  {
   "cell_type": "code",
   "execution_count": null,
   "id": "0a791143",
   "metadata": {},
   "outputs": [],
   "source": [
    "dd"
   ]
  },
  {
   "cell_type": "code",
   "execution_count": null,
   "id": "405fb1fd",
   "metadata": {},
   "outputs": [],
   "source": [
    "geocode('guidel la-falaise')"
   ]
  },
  {
   "cell_type": "code",
   "execution_count": null,
   "id": "3a90ad0f",
   "metadata": {},
   "outputs": [],
   "source": [
    "start_address = input('Where we start ? \\n')"
   ]
  },
  {
   "cell_type": "code",
   "execution_count": null,
   "id": "8dcb4e29",
   "metadata": {},
   "outputs": [],
   "source": [
    "spots_previsions['distance'] = round(distance.distance(geocode(start_address), geocode(spots_previsions['commune'] + ' ' + spots_previsions['spot'])).km,2)"
   ]
  },
  {
   "cell_type": "code",
   "execution_count": null,
   "id": "46e660bd",
   "metadata": {},
   "outputs": [],
   "source": [
    "dd"
   ]
  },
  {
   "cell_type": "code",
   "execution_count": null,
   "id": "e93c6423",
   "metadata": {},
   "outputs": [],
   "source": []
  },
  {
   "cell_type": "code",
   "execution_count": null,
   "id": "e65c998e",
   "metadata": {},
   "outputs": [],
   "source": []
  },
  {
   "cell_type": "code",
   "execution_count": null,
   "id": "8356fe68",
   "metadata": {},
   "outputs": [],
   "source": [
    "start_address = input('Where we start ? \\n')\n",
    "end_address = geocode('bangor donnant')\n",
    "distance_two_points = round(distance.distance(geocode(start_address), end_address).km,2)\n",
    "distance_two_points"
   ]
  },
  {
   "cell_type": "code",
   "execution_count": null,
   "id": "c0d04027",
   "metadata": {},
   "outputs": [],
   "source": []
  },
  {
   "cell_type": "code",
   "execution_count": null,
   "id": "cab274fa",
   "metadata": {},
   "outputs": [],
   "source": []
  },
  {
   "cell_type": "code",
   "execution_count": null,
   "id": "d5c02dc7",
   "metadata": {},
   "outputs": [],
   "source": []
  },
  {
   "cell_type": "code",
   "execution_count": null,
   "id": "9651b248",
   "metadata": {},
   "outputs": [],
   "source": [
    "def geocode(adress):\n",
    "    geocoder = Nominatim(user_agent=\"Antoine\")\n",
    "    location = geocoder.geocode(adress)\n",
    "    if location:\n",
    "        coords = [location.latitude, location.longitude]\n",
    "        return coords\n",
    "#         print(f'Result found for {adress}')\n",
    "#         print(coords)\n",
    "        \n",
    "    else:\n",
    "        None\n",
    "\n",
    "def draw_100km_map(adress):\n",
    "    coords = geocode(adress)\n",
    "    if coords:\n",
    "        map_ = folium.Map(location = coords, zoom_start = 10)\n",
    "        folium.Marker(location = coords, tooltip = \"Visit the spot\", popup = \"L'eau est bonne\").add_to(map_)\n",
    "        folium.Circle(location = coords, radius = 100 * 1000, fill=True).add_to(map_)\n",
    "        return map_\n",
    "    else:\n",
    "        print(f\"location not found for {adress}\")\n",
    "        return None\n",
    "\n",
    "user_adress = input(\"Enter an adress: \")\n",
    "map_ = draw_100km_map(adress = user_adress)\n",
    "map_\n"
   ]
  },
  {
   "cell_type": "code",
   "execution_count": null,
   "id": "3c73111a",
   "metadata": {},
   "outputs": [],
   "source": [
    "distance(coords_start, coords_end)"
   ]
  },
  {
   "cell_type": "code",
   "execution_count": null,
   "id": "56a6f065",
   "metadata": {},
   "outputs": [],
   "source": []
  },
  {
   "cell_type": "code",
   "execution_count": null,
   "id": "0aa579f3",
   "metadata": {},
   "outputs": [],
   "source": [
    "def geocode(adress):\n",
    "    geocoder = Nominatim(user_agent=\"Antoine\")\n",
    "    location = geocoder.geocode(adress)\n",
    "    if location:\n",
    "        coords = [location.latitude, location.longitude]\n",
    "        return coords        \n",
    "    else:\n",
    "        None\n"
   ]
  },
  {
   "cell_type": "code",
   "execution_count": null,
   "id": "a6c3163c",
   "metadata": {},
   "outputs": [],
   "source": [
    "start_address = input('Where we start ? \\n')\n",
    "end_address = geocode('bangor donnant')\n",
    "distance_two_points = round(distance.distance(geocode(start_address), end_address).km,2)\n",
    "distance_two_points\n"
   ]
  },
  {
   "cell_type": "code",
   "execution_count": null,
   "id": "f6a26a61",
   "metadata": {},
   "outputs": [],
   "source": []
  },
  {
   "cell_type": "code",
   "execution_count": null,
   "id": "41a92e54",
   "metadata": {},
   "outputs": [],
   "source": []
  },
  {
   "cell_type": "code",
   "execution_count": null,
   "id": "995da588",
   "metadata": {},
   "outputs": [],
   "source": [
    "dd"
   ]
  },
  {
   "cell_type": "code",
   "execution_count": null,
   "id": "40bb5129",
   "metadata": {},
   "outputs": [],
   "source": [
    "date"
   ]
  },
  {
   "cell_type": "code",
   "execution_count": null,
   "id": "ad0d5b34",
   "metadata": {},
   "outputs": [],
   "source": [
    "hour"
   ]
  },
  {
   "cell_type": "code",
   "execution_count": null,
   "id": "690a1cf5",
   "metadata": {},
   "outputs": [],
   "source": []
  },
  {
   "cell_type": "code",
   "execution_count": null,
   "id": "f12ce449",
   "metadata": {},
   "outputs": [],
   "source": [
    "meteo_spot_web_page = requests.get(spots_main_data['url'][0])\n",
    "soup_url = BeautifulSoup(meteo_spot_web_page.content, \"html.parser\")"
   ]
  },
  {
   "cell_type": "code",
   "execution_count": null,
   "id": "e56431e0",
   "metadata": {},
   "outputs": [],
   "source": [
    "n = 0\n",
    "for i in soup_url.find_all(\"div\", class_=\"detailed-report-box hidden gocenter\") :\n",
    "    datetime = str(re.search(\"box-\\d+-\\d+-\\d+-\\d+\", str(i)).group(0)).replace('box-','')\n",
    "    date = datetime[0:10]\n",
    "    hour = datetime[11:].replace('0','')\n",
    "    n += 1\n",
    "    print('date : ', date, 'hour : ', hour, 'n', n)\n",
    "    "
   ]
  },
  {
   "cell_type": "code",
   "execution_count": null,
   "id": "ec277006",
   "metadata": {},
   "outputs": [],
   "source": []
  },
  {
   "cell_type": "code",
   "execution_count": null,
   "id": "41503468",
   "metadata": {},
   "outputs": [],
   "source": [
    "for i in soup_url.find_all(\"span\", class_=\"note\") :\n",
    "    water_quality = str(re.search(\"strong>\\w<span\", str(i)).group(0)).replace('strong>','').replace('<span','')\n",
    "    level = str(re.search(\"\"\"metric\">\\d</span\"\"\", str(i)).group(0)).replace('metric\">','').replace('</span','')  \n",
    "    print(level)\n",
    "    "
   ]
  },
  {
   "cell_type": "code",
   "execution_count": null,
   "id": "3c7f2396",
   "metadata": {},
   "outputs": [],
   "source": []
  },
  {
   "cell_type": "code",
   "execution_count": null,
   "id": "8081eaff",
   "metadata": {},
   "outputs": [],
   "source": [
    "for i in soup_url.find_all(\"p\", class_=\"fl-caps previ-desc\") :\n",
    "    try :\n",
    "        conditions = str(re.search(\"conditions [a-z]+\", str(i)).group(0)).replace('conditions ','')\n",
    "        print(conditions)\n",
    "    except : \n",
    "        hauteur = str(re.search(\"\\d.\\d m en\", str(i)).group(0)).replace(' m en','')\n",
    "#     print(conditions)\n",
    "#     print(conditions)\n",
    "        print(hauteur)"
   ]
  },
  {
   "cell_type": "code",
   "execution_count": null,
   "id": "dcc4c948",
   "metadata": {},
   "outputs": [],
   "source": []
  },
  {
   "cell_type": "code",
   "execution_count": null,
   "id": "9cc06fbf",
   "metadata": {},
   "outputs": [],
   "source": []
  },
  {
   "cell_type": "code",
   "execution_count": null,
   "id": "dd2ac66c",
   "metadata": {},
   "outputs": [],
   "source": []
  },
  {
   "cell_type": "code",
   "execution_count": null,
   "id": "9eced758",
   "metadata": {},
   "outputs": [],
   "source": []
  },
  {
   "cell_type": "code",
   "execution_count": null,
   "id": "e456c1b8",
   "metadata": {},
   "outputs": [],
   "source": []
  },
  {
   "cell_type": "code",
   "execution_count": null,
   "id": "9ebdd9ee",
   "metadata": {},
   "outputs": [],
   "source": []
  },
  {
   "cell_type": "code",
   "execution_count": null,
   "id": "5d8c0797",
   "metadata": {},
   "outputs": [],
   "source": []
  },
  {
   "cell_type": "code",
   "execution_count": null,
   "id": "96848ecc",
   "metadata": {},
   "outputs": [],
   "source": []
  },
  {
   "cell_type": "code",
   "execution_count": null,
   "id": "55958b3d",
   "metadata": {},
   "outputs": [],
   "source": []
  }
 ],
 "metadata": {
  "kernelspec": {
   "display_name": "Python 3 (ipykernel)",
   "language": "python",
   "name": "python3"
  },
  "language_info": {
   "codemirror_mode": {
    "name": "ipython",
    "version": 3
   },
   "file_extension": ".py",
   "mimetype": "text/x-python",
   "name": "python",
   "nbconvert_exporter": "python",
   "pygments_lexer": "ipython3",
   "version": "3.8.12"
  },
  "toc": {
   "base_numbering": 1,
   "nav_menu": {},
   "number_sections": true,
   "sideBar": true,
   "skip_h1_title": false,
   "title_cell": "Table of Contents",
   "title_sidebar": "Contents",
   "toc_cell": false,
   "toc_position": {},
   "toc_section_display": true,
   "toc_window_display": false
  },
  "varInspector": {
   "cols": {
    "lenName": 16,
    "lenType": 16,
    "lenVar": 40
   },
   "kernels_config": {
    "python": {
     "delete_cmd_postfix": "",
     "delete_cmd_prefix": "del ",
     "library": "var_list.py",
     "varRefreshCmd": "print(var_dic_list())"
    },
    "r": {
     "delete_cmd_postfix": ") ",
     "delete_cmd_prefix": "rm(",
     "library": "var_list.r",
     "varRefreshCmd": "cat(var_dic_list()) "
    }
   },
   "types_to_exclude": [
    "module",
    "function",
    "builtin_function_or_method",
    "instance",
    "_Feature"
   ],
   "window_display": false
  }
 },
 "nbformat": 4,
 "nbformat_minor": 5
}
